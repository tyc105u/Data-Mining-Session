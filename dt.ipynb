{
 "cells": [
  {
   "cell_type": "code",
   "execution_count": 71,
   "metadata": {},
   "outputs": [
    {
     "name": "stdout",
     "output_type": "stream",
     "text": [
      "accuracy score = 0.8283582089552238\n",
      "mean squared error = 0.17164179104477612\n",
      "precision score = 0.8732394366197183\n",
      "recall score = 0.6262626262626263\n",
      "confusion matrix = \n",
      "[[160   9]\n",
      " [ 37  62]]\n",
      "f1 score = 0.7294117647058824\n"
     ]
    },
    {
     "data": {
      "image/png": "[encoded data removed]",
      "text/plain": [
       "<Figure size 432x288 with 1 Axes>"
      ]
     },
     "metadata": {},
     "output_type": "display_data"
    },
    {
     "name": "stdout",
     "output_type": "stream",
     "text": [
      "AUC = 0.8411332257486103\n"
     ]
    }
   ],
   "source": [
    "from sklearn import preprocessing\n",
    "from sklearn import tree\n",
    "from sklearn.model_selection import train_test_split\n",
    "from sklearn import metrics\n",
    "import pandas as pd\n",
    "import numpy as np\n",
    "from sklearn.tree import export_graphviz\n",
    "from io import StringIO\n",
    "import pydotplus\n",
    "from IPython.display import display,Image\n",
    "import matplotlib.pyplot as plt\n",
    "\n",
    "f = open(r\"../titanic.csv\")\n",
    "train = pd.read_csv(f)\n",
    "train = train.drop(['PassengerId', 'Name', 'Ticket', 'Cabin'], axis = 1)\n",
    "\n",
    "age_median = np.nanmedian(train[\"Age\"])\n",
    "new_Age = np.where(train[\"Age\"].isnull(), age_median, train[\"Age\"])\n",
    "train[\"Age\"] = new_Age\n",
    "\n",
    "label_encoder = preprocessing.LabelEncoder()\n",
    "train[\"Sex\"] = label_encoder.fit_transform(train[\"Sex\"])\n",
    "train[\"Embarked\"] = label_encoder.fit_transform(train[\"Embarked\"])\n",
    "\n",
    "X = titanic_train.drop('Survived', axis = 1)\n",
    "\n",
    "train_x, test_x, train_y, test_y = train_test_split(X, train[\"Survived\"], test_size = 0.3)\n",
    "\n",
    "clf = tree.DecisionTreeClassifier(criterion='entropy', max_depth = 5, random_state=0)\n",
    "titanic_clf = clf.fit(train_x,train_y)\n",
    "test_y_predicted = titanic_clf.predict(test_x)\n",
    "\n",
    "# 評量模型\n",
    "\n",
    "# accuracy\n",
    "accuracy = metrics.accuracy_score(test_y, test_y_predicted)\n",
    "print(\"accuracy score = \" + str(accuracy))\n",
    "\n",
    "# mean squared error\n",
    "mse = metrics.mean_squared_error(test_y, test_y_predicted)\n",
    "print(\"mean squared error = \" + str(mse))\n",
    "\n",
    "# precision\n",
    "pre = metrics.precision_score(test_y, test_y_predicted)\n",
    "print(\"precision score = \" + str(pre))\n",
    "\n",
    "# recall\n",
    "recall = metrics.recall_score(test_y, test_y_predicted)\n",
    "print(\"recall score = \" + str(recall))\n",
    "\n",
    "# 混淆矩陣 \n",
    "# [[true_neg false_neg] [false_pos true_pos]]\n",
    "cm = metrics.confusion_matrix(test_y, test_y_predicted)\n",
    "print(\"confusion matrix = \\n\" + str(cm))\n",
    "\n",
    "f1 = metrics.f1_score(test_y, test_y_predicted)\n",
    "print(\"f1 score = \" + str(f1))\n",
    "\n",
    "# ROC曲線\n",
    "#預測出各結果的機率\n",
    "prob = clf.predict_proba(test_x)\n",
    "# 取1, 代表活著的, 所有乘客生還機率\n",
    "prob = prob[:, 1]\n",
    "fper, tper, thresholds = metrics.roc_curve(test_y, prob)\n",
    "plt.plot(fper, tper, color = 'red', label = 'ROC')\n",
    "plt.xlabel('False Positive')\n",
    "plt.ylabel('True Positive')\n",
    "plt.plot([0, 1], [0, 1], color = 'green', linestyle = '--')\n",
    "# 左上角的圖例\n",
    "plt.legend()\n",
    "plt.show()\n",
    "\n",
    "#AUC\n",
    "roc_auc = metrics.auc(fper, tper)\n",
    "print(\"AUC = \" + str(roc_auc))"
   ]
  }
 ],
 "metadata": {
  "kernelspec": {
   "display_name": "Python 3",
   "language": "python",
   "name": "python3"
  },
  "language_info": {
   "codemirror_mode": {
    "name": "ipython",
    "version": 3
   },
   "file_extension": ".py",
   "mimetype": "text/x-python",
   "name": "python",
   "nbconvert_exporter": "python",
   "pygments_lexer": "ipython3",
   "version": "3.6.5"
  }
 },
 "nbformat": 4,
 "nbformat_minor": 2
}
