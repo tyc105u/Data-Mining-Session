{
 "cells": [
  {
   "cell_type": "code",
   "execution_count": 38,
   "metadata": {},
   "outputs": [
    {
     "name": "stdout",
     "output_type": "stream",
     "text": [
      "Collecting sklearn\n",
      "  Downloading sklearn-0.0.tar.gz (1.1 kB)\n",
      "Collecting scikit-learn\n",
      "  Downloading scikit_learn-1.0.2-cp38-cp38-manylinux_2_17_x86_64.manylinux2014_x86_64.whl (26.7 MB)\n",
      "\u001b[K     |████████████████████████████████| 26.7 MB 5.7 MB/s eta 0:00:01     |██████████████████▉             | 15.8 MB 5.7 MB/s eta 0:00:0202\n",
      "\u001b[?25hRequirement already satisfied: numpy>=1.14.6 in /usr/lib/python3/dist-packages (from scikit-learn->sklearn) (1.17.4)\n",
      "Collecting joblib>=0.11\n",
      "  Downloading joblib-1.1.0-py2.py3-none-any.whl (306 kB)\n",
      "\u001b[K     |████████████████████████████████| 306 kB 18.6 MB/s eta 0:00:01\n",
      "\u001b[?25hRequirement already satisfied: scipy>=1.1.0 in /usr/lib/python3/dist-packages (from scikit-learn->sklearn) (1.3.3)\n",
      "Collecting threadpoolctl>=2.0.0\n",
      "  Downloading threadpoolctl-3.0.0-py3-none-any.whl (14 kB)\n",
      "Building wheels for collected packages: sklearn\n",
      "  Building wheel for sklearn (setup.py) ... \u001b[?25ldone\n",
      "\u001b[?25h  Created wheel for sklearn: filename=sklearn-0.0-py2.py3-none-any.whl size=1315 sha256=55c89fc67c5a817fd05d08d1a186c246e67495fa9fb82bdf8b02002a96a831c4\n",
      "  Stored in directory: /home/franktu/.cache/pip/wheels/22/0b/40/fd3f795caaa1fb4c6cb738bc1f56100be1e57da95849bfc897\n",
      "Successfully built sklearn\n",
      "Installing collected packages: joblib, threadpoolctl, scikit-learn, sklearn\n",
      "Successfully installed joblib-1.1.0 scikit-learn-1.0.2 sklearn-0.0 threadpoolctl-3.0.0\n"
     ]
    }
   ],
   "source": [
    "!pip install sklearn"
   ]
  },
  {
   "cell_type": "code",
   "execution_count": 32,
   "metadata": {},
   "outputs": [
    {
     "name": "stdout",
     "output_type": "stream",
     "text": [
      "Collecting seaborn\n",
      "  Downloading seaborn-0.11.2-py3-none-any.whl (292 kB)\n",
      "\u001b[K     |████████████████████████████████| 292 kB 1.0 MB/s eta 0:00:01\n",
      "\u001b[?25hRequirement already satisfied: matplotlib>=2.2 in /usr/lib/python3/dist-packages (from seaborn) (3.1.2)\n",
      "Requirement already satisfied: pandas>=0.23 in /usr/lib/python3/dist-packages (from seaborn) (0.25.3)\n",
      "Requirement already satisfied: scipy>=1.0 in /usr/lib/python3/dist-packages (from seaborn) (1.3.3)\n",
      "Requirement already satisfied: numpy>=1.15 in /usr/lib/python3/dist-packages (from seaborn) (1.17.4)\n",
      "Installing collected packages: seaborn\n",
      "Successfully installed seaborn-0.11.2\n"
     ]
    }
   ],
   "source": [
    "!pip install seaborn"
   ]
  },
  {
   "cell_type": "code",
   "execution_count": 1,
   "metadata": {},
   "outputs": [
    {
     "name": "stdout",
     "output_type": "stream",
     "text": [
      "<class 'pandas.core.frame.DataFrame'>\n",
      "RangeIndex: 2260701 entries, 0 to 2260700\n",
      "Columns: 151 entries, id to settlement_term\n",
      "dtypes: float64(113), object(38)\n",
      "memory usage: 2.5+ GB\n"
     ]
    }
   ],
   "source": [
    "import pandas as pd\n",
    "import numpy as np\n",
    "import matplotlib.pyplot as plt\n",
    "\n",
    "\n",
    "df = pd.read_csv('loans.csv', low_memory=False)\n",
    "\n",
    "df.info()"
   ]
  },
  {
   "cell_type": "code",
   "execution_count": 2,
   "metadata": {},
   "outputs": [],
   "source": [
    "import seaborn as sns"
   ]
  },
  {
   "cell_type": "code",
   "execution_count": 3,
   "metadata": {},
   "outputs": [
    {
     "data": {
      "text/plain": [
       "(2260701, 151)"
      ]
     },
     "execution_count": 3,
     "metadata": {},
     "output_type": "execute_result"
    }
   ],
   "source": [
    "df.shape"
   ]
  },
  {
   "cell_type": "code",
   "execution_count": 6,
   "metadata": {},
   "outputs": [],
   "source": [
    "#選取需要的column, 原本有151個\n",
    "df_ = df[['loan_amnt','term','int_rate','installment','grade','sub_grade','emp_title','emp_length',\n",
    "                        'home_ownership','annual_inc','verification_status','issue_d','loan_status','purpose',\n",
    "                        'title','dti','earliest_cr_line','open_acc','pub_rec','revol_bal','revol_util',\n",
    "                        'total_acc','initial_list_status','application_type','mort_acc','pub_rec_bankruptcies']]"
   ]
  },
  {
   "cell_type": "code",
   "execution_count": 9,
   "metadata": {},
   "outputs": [
    {
     "data": {
      "text/plain": [
       "(2260701, 26)"
      ]
     },
     "execution_count": 9,
     "metadata": {},
     "output_type": "execute_result"
    }
   ],
   "source": [
    "df_.shape"
   ]
  },
  {
   "cell_type": "code",
   "execution_count": 10,
   "metadata": {},
   "outputs": [
    {
     "name": "stdout",
     "output_type": "stream",
     "text": [
      "<class 'pandas.core.frame.DataFrame'>\n",
      "RangeIndex: 2260701 entries, 0 to 2260700\n",
      "Data columns (total 26 columns):\n",
      "loan_amnt               float64\n",
      "term                    object\n",
      "int_rate                float64\n",
      "installment             float64\n",
      "grade                   object\n",
      "sub_grade               object\n",
      "emp_title               object\n",
      "emp_length              object\n",
      "home_ownership          object\n",
      "annual_inc              float64\n",
      "verification_status     object\n",
      "issue_d                 object\n",
      "loan_status             object\n",
      "purpose                 object\n",
      "title                   object\n",
      "dti                     float64\n",
      "earliest_cr_line        object\n",
      "open_acc                float64\n",
      "pub_rec                 float64\n",
      "revol_bal               float64\n",
      "revol_util              float64\n",
      "total_acc               float64\n",
      "initial_list_status     object\n",
      "application_type        object\n",
      "mort_acc                float64\n",
      "pub_rec_bankruptcies    float64\n",
      "dtypes: float64(12), object(14)\n",
      "memory usage: 448.4+ MB\n"
     ]
    }
   ],
   "source": [
    "df_.info()"
   ]
  },
  {
   "cell_type": "code",
   "execution_count": 12,
   "metadata": {},
   "outputs": [
    {
     "data": {
      "text/plain": [
       "array(['Fully Paid', 'Current', 'Charged Off', 'In Grace Period',\n",
       "       'Late (31-120 days)', 'Late (16-30 days)', 'Default', nan,\n",
       "       'Does not meet the credit policy. Status:Fully Paid',\n",
       "       'Does not meet the credit policy. Status:Charged Off'],\n",
       "      dtype=object)"
      ]
     },
     "execution_count": 12,
     "metadata": {},
     "output_type": "execute_result"
    }
   ],
   "source": [
    "#loan_status存在下列值\n",
    "df_['loan_status'].unique()"
   ]
  },
  {
   "cell_type": "code",
   "execution_count": 16,
   "metadata": {},
   "outputs": [],
   "source": [
    "#留下F.P.和C.O.\n",
    "df_ = df_[(df_['loan_status'] == 'Fully Paid') | (df_['loan_status'] == 'Charged Off')]"
   ]
  },
  {
   "cell_type": "code",
   "execution_count": 17,
   "metadata": {},
   "outputs": [
    {
     "data": {
      "text/plain": [
       "array(['Fully Paid', 'Charged Off'], dtype=object)"
      ]
     },
     "execution_count": 17,
     "metadata": {},
     "output_type": "execute_result"
    }
   ],
   "source": [
    "df_['loan_status'].unique()"
   ]
  },
  {
   "cell_type": "code",
   "execution_count": 19,
   "metadata": {},
   "outputs": [
    {
     "data": {
      "text/plain": [
       "(1345310, 26)"
      ]
     },
     "execution_count": 19,
     "metadata": {},
     "output_type": "execute_result"
    }
   ],
   "source": [
    "df_.shape"
   ]
  },
  {
   "cell_type": "code",
   "execution_count": 20,
   "metadata": {},
   "outputs": [
    {
     "name": "stdout",
     "output_type": "stream",
     "text": [
      "<class 'pandas.core.frame.DataFrame'>\n",
      "Int64Index: 1345310 entries, 0 to 2260697\n",
      "Data columns (total 26 columns):\n",
      "loan_amnt               1345310 non-null float64\n",
      "term                    1345310 non-null object\n",
      "int_rate                1345310 non-null float64\n",
      "installment             1345310 non-null float64\n",
      "grade                   1345310 non-null object\n",
      "sub_grade               1345310 non-null object\n",
      "emp_title               1259525 non-null object\n",
      "emp_length              1266799 non-null object\n",
      "home_ownership          1345310 non-null object\n",
      "annual_inc              1345310 non-null float64\n",
      "verification_status     1345310 non-null object\n",
      "issue_d                 1345310 non-null object\n",
      "loan_status             1345310 non-null object\n",
      "purpose                 1345310 non-null object\n",
      "title                   1328651 non-null object\n",
      "dti                     1344936 non-null float64\n",
      "earliest_cr_line        1345310 non-null object\n",
      "open_acc                1345310 non-null float64\n",
      "pub_rec                 1345310 non-null float64\n",
      "revol_bal               1345310 non-null float64\n",
      "revol_util              1344453 non-null float64\n",
      "total_acc               1345310 non-null float64\n",
      "initial_list_status     1345310 non-null object\n",
      "application_type        1345310 non-null object\n",
      "mort_acc                1298029 non-null float64\n",
      "pub_rec_bankruptcies    1344613 non-null float64\n",
      "dtypes: float64(12), object(14)\n",
      "memory usage: 277.1+ MB\n"
     ]
    }
   ],
   "source": [
    "df_.info()"
   ]
  },
  {
   "cell_type": "code",
   "execution_count": 22,
   "metadata": {},
   "outputs": [
    {
     "data": {
      "text/plain": [
       "<matplotlib.axes._subplots.AxesSubplot at 0x7f83999b4280>"
      ]
     },
     "execution_count": 22,
     "metadata": {},
     "output_type": "execute_result"
    },
    {
     "data": {
      "image/png": "[encoded data removed]",
      "text/plain": [
       "<Figure size 432x288 with 1 Axes>"
      ]
     },
     "metadata": {
      "needs_background": "light"
     },
     "output_type": "display_data"
    }
   ],
   "source": [
    "sns.countplot(x = 'loan_status',data=df_)"
   ]
  },
  {
   "cell_type": "code",
   "execution_count": 24,
   "metadata": {},
   "outputs": [
    {
     "data": {
      "text/plain": [
       "(0, 45000)"
      ]
     },
     "execution_count": 24,
     "metadata": {},
     "output_type": "execute_result"
    },
    {
     "data": {
      "image/png": "[encoded data removed]",
      "text/plain": [
       "<Figure size 864x288 with 1 Axes>"
      ]
     },
     "metadata": {
      "needs_background": "light"
     },
     "output_type": "display_data"
    }
   ],
   "source": [
    "#貸款金額\n",
    "plt.figure(figsize = (12,4))\n",
    "sns.distplot(df_['loan_amnt'], kde = False, bins=40)\n",
    "plt.xlim(0,45000)"
   ]
  },
  {
   "cell_type": "code",
   "execution_count": 27,
   "metadata": {},
   "outputs": [],
   "source": [
    "#變數的相關性\n",
    "corr = df_.corr()"
   ]
  },
  {
   "cell_type": "code",
   "execution_count": 28,
   "metadata": {},
   "outputs": [
    {
     "data": {
      "text/plain": [
       "(10, 0)"
      ]
     },
     "execution_count": 28,
     "metadata": {},
     "output_type": "execute_result"
    },
    {
     "data": {
      "image/png": "[encoded data removed]",
      "text/plain": [
       "<Figure size 1080x648 with 2 Axes>"
      ]
     },
     "metadata": {
      "needs_background": "light"
     },
     "output_type": "display_data"
    }
   ],
   "source": [
    "plt.figure(figsize=(15,9))\n",
    "sns.heatmap(corr, annot = True, cmap='viridis')\n",
    "plt.ylim(10, 0)"
   ]
  },
  {
   "cell_type": "code",
   "execution_count": 29,
   "metadata": {},
   "outputs": [
    {
     "data": {
      "text/plain": [
       "<matplotlib.axes._subplots.AxesSubplot at 0x7f83a60b1f10>"
      ]
     },
     "execution_count": 29,
     "metadata": {},
     "output_type": "execute_result"
    },
    {
     "data": {
      "image/png": "[encoded data removed]",
      "text/plain": [
       "<Figure size 432x288 with 1 Axes>"
      ]
     },
     "metadata": {
      "needs_background": "light"
     },
     "output_type": "display_data"
    }
   ],
   "source": [
    "#通常每月欠款愈大, 貸款金額愈大, 兩者關聯性高\n",
    "sns.scatterplot(x='installment', y='loan_amnt', data=df_)"
   ]
  },
  {
   "cell_type": "code",
   "execution_count": 30,
   "metadata": {},
   "outputs": [
    {
     "data": {
      "text/plain": [
       "<matplotlib.axes._subplots.AxesSubplot at 0x7f83a6247ee0>"
      ]
     },
     "execution_count": 30,
     "metadata": {},
     "output_type": "execute_result"
    },
    {
     "data": {
      "image/png": "[encoded data removed]",
      "text/plain": [
       "<Figure size 432x288 with 1 Axes>"
      ]
     },
     "metadata": {
      "needs_background": "light"
     },
     "output_type": "display_data"
    }
   ],
   "source": [
    "sns.boxplot(x='loan_status',y='loan_amnt',data=df_)"
   ]
  },
  {
   "cell_type": "code",
   "execution_count": 31,
   "metadata": {},
   "outputs": [
    {
     "data": {
      "text/html": [
       "<div>\n",
       "<style scoped>\n",
       "    .dataframe tbody tr th:only-of-type {\n",
       "        vertical-align: middle;\n",
       "    }\n",
       "\n",
       "    .dataframe tbody tr th {\n",
       "        vertical-align: top;\n",
       "    }\n",
       "\n",
       "    .dataframe thead th {\n",
       "        text-align: right;\n",
       "    }\n",
       "</style>\n",
       "<table border=\"1\" class=\"dataframe\">\n",
       "  <thead>\n",
       "    <tr style=\"text-align: right;\">\n",
       "      <th></th>\n",
       "      <th>count</th>\n",
       "      <th>mean</th>\n",
       "      <th>std</th>\n",
       "      <th>min</th>\n",
       "      <th>25%</th>\n",
       "      <th>50%</th>\n",
       "      <th>75%</th>\n",
       "      <th>max</th>\n",
       "    </tr>\n",
       "    <tr>\n",
       "      <th>loan_status</th>\n",
       "      <th></th>\n",
       "      <th></th>\n",
       "      <th></th>\n",
       "      <th></th>\n",
       "      <th></th>\n",
       "      <th></th>\n",
       "      <th></th>\n",
       "      <th></th>\n",
       "    </tr>\n",
       "  </thead>\n",
       "  <tbody>\n",
       "    <tr>\n",
       "      <th>Charged Off</th>\n",
       "      <td>268559.0</td>\n",
       "      <td>15565.055444</td>\n",
       "      <td>8814.560077</td>\n",
       "      <td>900.0</td>\n",
       "      <td>9000.0</td>\n",
       "      <td>14350.0</td>\n",
       "      <td>20400.0</td>\n",
       "      <td>40000.0</td>\n",
       "    </tr>\n",
       "    <tr>\n",
       "      <th>Fully Paid</th>\n",
       "      <td>1076751.0</td>\n",
       "      <td>14134.369808</td>\n",
       "      <td>8669.028973</td>\n",
       "      <td>500.0</td>\n",
       "      <td>7500.0</td>\n",
       "      <td>12000.0</td>\n",
       "      <td>20000.0</td>\n",
       "      <td>40000.0</td>\n",
       "    </tr>\n",
       "  </tbody>\n",
       "</table>\n",
       "</div>"
      ],
      "text/plain": [
       "                 count          mean          std    min     25%      50%  \\\n",
       "loan_status                                                                 \n",
       "Charged Off   268559.0  15565.055444  8814.560077  900.0  9000.0  14350.0   \n",
       "Fully Paid   1076751.0  14134.369808  8669.028973  500.0  7500.0  12000.0   \n",
       "\n",
       "                 75%      max  \n",
       "loan_status                    \n",
       "Charged Off  20400.0  40000.0  \n",
       "Fully Paid   20000.0  40000.0  "
      ]
     },
     "execution_count": 31,
     "metadata": {},
     "output_type": "execute_result"
    }
   ],
   "source": [
    "df_.groupby('loan_status')['loan_amnt'].describe()"
   ]
  },
  {
   "cell_type": "code",
   "execution_count": 32,
   "metadata": {},
   "outputs": [
    {
     "data": {
      "text/plain": [
       "['A', 'B', 'C', 'D', 'E', 'F', 'G']"
      ]
     },
     "execution_count": 32,
     "metadata": {},
     "output_type": "execute_result"
    }
   ],
   "source": [
    "#信用評等從A到G\n",
    "sorted(df_['grade'].unique())"
   ]
  },
  {
   "cell_type": "code",
   "execution_count": 34,
   "metadata": {},
   "outputs": [
    {
     "data": {
      "text/plain": [
       "['A1',\n",
       " 'A2',\n",
       " 'A3',\n",
       " 'A4',\n",
       " 'A5',\n",
       " 'B1',\n",
       " 'B2',\n",
       " 'B3',\n",
       " 'B4',\n",
       " 'B5',\n",
       " 'C1',\n",
       " 'C2',\n",
       " 'C3',\n",
       " 'C4',\n",
       " 'C5',\n",
       " 'D1',\n",
       " 'D2',\n",
       " 'D3',\n",
       " 'D4',\n",
       " 'D5',\n",
       " 'E1',\n",
       " 'E2',\n",
       " 'E3',\n",
       " 'E4',\n",
       " 'E5',\n",
       " 'F1',\n",
       " 'F2',\n",
       " 'F3',\n",
       " 'F4',\n",
       " 'F5',\n",
       " 'G1',\n",
       " 'G2',\n",
       " 'G3',\n",
       " 'G4',\n",
       " 'G5']"
      ]
     },
     "execution_count": 34,
     "metadata": {},
     "output_type": "execute_result"
    }
   ],
   "source": [
    "sorted(df_['sub_grade'].unique())"
   ]
  },
  {
   "cell_type": "code",
   "execution_count": 38,
   "metadata": {},
   "outputs": [
    {
     "data": {
      "text/plain": [
       "<matplotlib.axes._subplots.AxesSubplot at 0x7f8395320be0>"
      ]
     },
     "execution_count": 38,
     "metadata": {},
     "output_type": "execute_result"
    },
    {
     "data": {
      "image/png": "[encoded data removed]",
      "text/plain": [
       "<Figure size 432x288 with 1 Axes>"
      ]
     },
     "metadata": {
      "needs_background": "light"
     },
     "output_type": "display_data"
    }
   ],
   "source": [
    "#每個評等的償還數量\n",
    "sns.countplot(x='grade',data=df_,hue='loan_status')"
   ]
  },
  {
   "cell_type": "code",
   "execution_count": 39,
   "metadata": {},
   "outputs": [
    {
     "data": {
      "text/plain": [
       "<matplotlib.axes._subplots.AxesSubplot at 0x7f8399f9f970>"
      ]
     },
     "execution_count": 39,
     "metadata": {},
     "output_type": "execute_result"
    },
    {
     "data": {
      "image/png": "[encoded data removed]",
      "text/plain": [
       "<Figure size 864x288 with 1 Axes>"
      ]
     },
     "metadata": {
      "needs_background": "light"
     },
     "output_type": "display_data"
    }
   ],
   "source": [
    "#每個subgrade的償還數量\n",
    "plt.figure(figsize=(12,4))\n",
    "subgrade_order = sorted(df_['sub_grade'].unique())\n",
    "sns.countplot(x='sub_grade',data = df_,order = subgrade_order ,hue='loan_status')"
   ]
  },
  {
   "cell_type": "code",
   "execution_count": 42,
   "metadata": {},
   "outputs": [],
   "source": [
    "from sklearn import preprocessing\n",
    "label_encoder = preprocessing.LabelEncoder()\n",
    "df_['loan_repaid'] = label_encoder.fit_transform(df_['loan_status'])\n",
    "#df_['loan_repaid']"
   ]
  },
  {
   "cell_type": "code",
   "execution_count": 47,
   "metadata": {},
   "outputs": [
    {
     "data": {
      "text/plain": [
       "int_rate               -0.258792\n",
       "dti                    -0.084510\n",
       "loan_amnt              -0.065604\n",
       "revol_util             -0.060048\n",
       "installment            -0.051701\n",
       "open_acc               -0.028078\n",
       "pub_rec                -0.026194\n",
       "pub_rec_bankruptcies   -0.025308\n",
       "total_acc               0.011300\n",
       "revol_bal               0.020010\n",
       "annual_inc              0.041759\n",
       "mort_acc                0.075294\n",
       "Name: loan_repaid, dtype: float64"
      ]
     },
     "execution_count": 47,
     "metadata": {},
     "output_type": "execute_result"
    }
   ],
   "source": [
    "#other columns與loan_paid的相關性\n",
    "df_.corr()['loan_repaid'].sort_values().drop('loan_repaid')"
   ]
  },
  {
   "cell_type": "code",
   "execution_count": 54,
   "metadata": {},
   "outputs": [
    {
     "name": "stdout",
     "output_type": "stream",
     "text": [
      "<class 'pandas.core.frame.DataFrame'>\n",
      "Int64Index: 1345310 entries, 0 to 2260697\n",
      "Data columns (total 26 columns):\n",
      "loan_amnt               1345310 non-null float64\n",
      "term                    1345310 non-null object\n",
      "int_rate                1345310 non-null float64\n",
      "installment             1345310 non-null float64\n",
      "grade                   1345310 non-null object\n",
      "sub_grade               1345310 non-null object\n",
      "emp_title               1259525 non-null object\n",
      "emp_length              1266799 non-null object\n",
      "home_ownership          1345310 non-null object\n",
      "annual_inc              1345310 non-null float64\n",
      "verification_status     1345310 non-null object\n",
      "issue_d                 1345310 non-null object\n",
      "purpose                 1345310 non-null object\n",
      "title                   1328651 non-null object\n",
      "dti                     1344936 non-null float64\n",
      "earliest_cr_line        1345310 non-null object\n",
      "open_acc                1345310 non-null float64\n",
      "pub_rec                 1345310 non-null float64\n",
      "revol_bal               1345310 non-null float64\n",
      "revol_util              1344453 non-null float64\n",
      "total_acc               1345310 non-null float64\n",
      "initial_list_status     1345310 non-null object\n",
      "application_type        1345310 non-null object\n",
      "mort_acc                1298029 non-null float64\n",
      "pub_rec_bankruptcies    1344613 non-null float64\n",
      "loan_repaid             1345310 non-null int64\n",
      "dtypes: float64(12), int64(1), object(13)\n",
      "memory usage: 277.1+ MB\n"
     ]
    }
   ],
   "source": [
    "df_.info()"
   ]
  },
  {
   "cell_type": "code",
   "execution_count": 59,
   "metadata": {},
   "outputs": [],
   "source": [
    "#missing data\n",
    "#df_的data數\n",
    "length = len(df_)"
   ]
  },
  {
   "cell_type": "code",
   "execution_count": 61,
   "metadata": {},
   "outputs": [
    {
     "name": "stdout",
     "output_type": "stream",
     "text": [
      "loan_amnt               0.000000\n",
      "term                    0.000000\n",
      "int_rate                0.000000\n",
      "installment             0.000000\n",
      "grade                   0.000000\n",
      "sub_grade               0.000000\n",
      "emp_title               6.376597\n",
      "emp_length              5.835904\n",
      "home_ownership          0.000000\n",
      "annual_inc              0.000000\n",
      "verification_status     0.000000\n",
      "issue_d                 0.000000\n",
      "purpose                 0.000000\n",
      "title                   1.238302\n",
      "dti                     0.027800\n",
      "earliest_cr_line        0.000000\n",
      "open_acc                0.000000\n",
      "pub_rec                 0.000000\n",
      "revol_bal               0.000000\n",
      "revol_util              0.063703\n",
      "total_acc               0.000000\n",
      "initial_list_status     0.000000\n",
      "application_type        0.000000\n",
      "mort_acc                3.514506\n",
      "pub_rec_bankruptcies    0.051810\n",
      "loan_repaid             0.000000\n",
      "dtype: float64\n"
     ]
    }
   ],
   "source": [
    "lost = df_.isnull().sum()\n",
    "print(lost * 100 / length)"
   ]
  },
  {
   "cell_type": "code",
   "execution_count": 65,
   "metadata": {},
   "outputs": [
    {
     "data": {
      "text/plain": [
       "378353"
      ]
     },
     "execution_count": 65,
     "metadata": {},
     "output_type": "execute_result"
    }
   ],
   "source": [
    "#共有378352種數值\n",
    "df_['emp_title'].nunique()"
   ]
  },
  {
   "cell_type": "code",
   "execution_count": 66,
   "metadata": {},
   "outputs": [],
   "source": [
    "df_= df_.drop('emp_title',axis=1)"
   ]
  },
  {
   "cell_type": "code",
   "execution_count": 67,
   "metadata": {},
   "outputs": [
    {
     "data": {
      "text/plain": [
       "['1 year',\n",
       " '10+ years',\n",
       " '2 years',\n",
       " '3 years',\n",
       " '4 years',\n",
       " '5 years',\n",
       " '6 years',\n",
       " '7 years',\n",
       " '8 years',\n",
       " '9 years',\n",
       " '< 1 year']"
      ]
     },
     "execution_count": 67,
     "metadata": {},
     "output_type": "execute_result"
    }
   ],
   "source": [
    "#排序就業時間 移除缺失值\n",
    "sorted(df_['emp_length'].dropna().unique())"
   ]
  },
  {
   "cell_type": "code",
   "execution_count": 68,
   "metadata": {},
   "outputs": [],
   "source": [
    "emp_length_order = [ '< 1 year',\n",
    "                      '1 year',\n",
    "                     '2 years',\n",
    "                     '3 years',\n",
    "                     '4 years',\n",
    "                     '5 years',\n",
    "                     '6 years',\n",
    "                     '7 years',\n",
    "                     '8 years',\n",
    "                     '9 years',\n",
    "                     '10+ years']"
   ]
  },
  {
   "cell_type": "code",
   "execution_count": 70,
   "metadata": {},
   "outputs": [
    {
     "data": {
      "text/plain": [
       "<matplotlib.axes._subplots.AxesSubplot at 0x7f8395858fd0>"
      ]
     },
     "execution_count": 70,
     "metadata": {},
     "output_type": "execute_result"
    },
    {
     "data": {
      "image/png": "[encoded data removed]",
      "text/plain": [
       "<Figure size 864x288 with 1 Axes>"
      ]
     },
     "metadata": {
      "needs_background": "light"
     },
     "output_type": "display_data"
    }
   ],
   "source": [
    "#依工作年份分類的償還數量\n",
    "plt.figure(figsize=(12,4))\n",
    "sns.countplot(x='emp_length',data=df_,order=emp_length_order,hue='loan_repaid')"
   ]
  },
  {
   "cell_type": "code",
   "execution_count": 71,
   "metadata": {},
   "outputs": [],
   "source": [
    "#償還比率各年份差距不大, 因此剔除\n",
    "df_ = df_.drop('emp_length',axis=1)"
   ]
  },
  {
   "cell_type": "code",
   "execution_count": 72,
   "metadata": {},
   "outputs": [
    {
     "data": {
      "text/plain": [
       "array(['debt_consolidation', 'small_business', 'home_improvement',\n",
       "       'major_purchase', 'credit_card', 'other', 'house', 'vacation',\n",
       "       'car', 'medical', 'moving', 'renewable_energy', 'wedding',\n",
       "       'educational'], dtype=object)"
      ]
     },
     "execution_count": 72,
     "metadata": {},
     "output_type": "execute_result"
    }
   ],
   "source": [
    "df_['purpose'].unique()"
   ]
  },
  {
   "cell_type": "code",
   "execution_count": 75,
   "metadata": {},
   "outputs": [
    {
     "data": {
      "text/plain": [
       "array(['Debt consolidation', 'Business', nan, ..., 'takeitaway',\n",
       "       'Creditt Card Loan', 'debt reduction/hone updates'], dtype=object)"
      ]
     },
     "execution_count": 75,
     "metadata": {},
     "output_type": "execute_result"
    }
   ],
   "source": [
    "df_['title'].unique()"
   ]
  },
  {
   "cell_type": "code",
   "execution_count": 76,
   "metadata": {},
   "outputs": [
    {
     "data": {
      "text/plain": [
       "0          Debt consolidation\n",
       "1                    Business\n",
       "2                         NaN\n",
       "4              Major purchase\n",
       "5          Debt consolidation\n",
       "6          Debt consolidation\n",
       "7              Major purchase\n",
       "8     Credit card refinancing\n",
       "9     Credit card refinancing\n",
       "12                        NaN\n",
       "13         Debt consolidation\n",
       "14         Debt consolidation\n",
       "15    Credit card refinancing\n",
       "16         Debt consolidation\n",
       "17         Debt consolidation\n",
       "19         Debt consolidation\n",
       "20         Debt consolidation\n",
       "21    Credit card refinancing\n",
       "22         Debt consolidation\n",
       "23    Credit card refinancing\n",
       "Name: title, dtype: object"
      ]
     },
     "execution_count": 76,
     "metadata": {},
     "output_type": "execute_result"
    }
   ],
   "source": [
    "df_['title'].head(20)"
   ]
  },
  {
   "cell_type": "code",
   "execution_count": 77,
   "metadata": {},
   "outputs": [
    {
     "data": {
      "text/plain": [
       "0          Debt consolidation\n",
       "1                    Business\n",
       "2                         NaN\n",
       "4              Major purchase\n",
       "5          Debt consolidation\n",
       "6          Debt consolidation\n",
       "7              Major purchase\n",
       "8     Credit card refinancing\n",
       "9     Credit card refinancing\n",
       "12                        NaN\n",
       "13         Debt consolidation\n",
       "14         Debt consolidation\n",
       "15    Credit card refinancing\n",
       "16         Debt consolidation\n",
       "17         Debt consolidation\n",
       "19         Debt consolidation\n",
       "20         Debt consolidation\n",
       "21    Credit card refinancing\n",
       "22         Debt consolidation\n",
       "23    Credit card refinancing\n",
       "Name: title, dtype: object"
      ]
     },
     "execution_count": 77,
     "metadata": {},
     "output_type": "execute_result"
    }
   ],
   "source": [
    "df_['title'].head(20)"
   ]
  },
  {
   "cell_type": "code",
   "execution_count": 78,
   "metadata": {},
   "outputs": [],
   "source": [
    "df_ = df_.drop('title',axis=1)"
   ]
  },
  {
   "cell_type": "code",
   "execution_count": 79,
   "metadata": {},
   "outputs": [
    {
     "data": {
      "text/plain": [
       "loan_amnt                   0\n",
       "term                        0\n",
       "int_rate                    0\n",
       "installment                 0\n",
       "grade                       0\n",
       "sub_grade                   0\n",
       "home_ownership              0\n",
       "annual_inc                  0\n",
       "verification_status         0\n",
       "issue_d                     0\n",
       "purpose                     0\n",
       "dti                       374\n",
       "earliest_cr_line            0\n",
       "open_acc                    0\n",
       "pub_rec                     0\n",
       "revol_bal                   0\n",
       "revol_util                857\n",
       "total_acc                   0\n",
       "initial_list_status         0\n",
       "application_type            0\n",
       "mort_acc                47281\n",
       "pub_rec_bankruptcies      697\n",
       "loan_repaid                 0\n",
       "dtype: int64"
      ]
     },
     "execution_count": 79,
     "metadata": {},
     "output_type": "execute_result"
    }
   ],
   "source": [
    "df_.isnull().sum()"
   ]
  },
  {
   "cell_type": "code",
   "execution_count": 83,
   "metadata": {},
   "outputs": [
    {
     "data": {
      "text/plain": [
       "0.0     523837\n",
       "1.0     273416\n",
       "2.0     188941\n",
       "3.0     139381\n",
       "4.0      94920\n",
       "5.0      57632\n",
       "6.0      32539\n",
       "7.0      16850\n",
       "8.0       8378\n",
       "9.0       4285\n",
       "10.0      2197\n",
       "11.0      1206\n",
       "12.0       640\n",
       "13.0       356\n",
       "14.0       244\n",
       "15.0       132\n",
       "16.0        93\n",
       "17.0        61\n",
       "18.0        48\n",
       "19.0        29\n",
       "20.0        25\n",
       "24.0        16\n",
       "21.0        14\n",
       "22.0        14\n",
       "23.0        10\n",
       "25.0         9\n",
       "27.0         8\n",
       "26.0         6\n",
       "28.0         4\n",
       "29.0         4\n",
       "34.0         3\n",
       "30.0         2\n",
       "32.0         2\n",
       "37.0         2\n",
       "31.0         2\n",
       "51.0         1\n",
       "47.0         1\n",
       "36.0         1\n",
       "35.0         1\n",
       "Name: mort_acc, dtype: int64"
      ]
     },
     "execution_count": 83,
     "metadata": {},
     "output_type": "execute_result"
    }
   ],
   "source": [
    "#將剩下遺漏值以中位數填補\n",
    "median = np.nanmedian(df_['mort_acc'])\n",
    "df_['mort_acc'] = np.where(df_['mort_acc'].isnull(), median, df_['mort_acc'])\n",
    "df_['mort_acc'].value_counts()"
   ]
  },
  {
   "cell_type": "code",
   "execution_count": 87,
   "metadata": {},
   "outputs": [],
   "source": [
    "np.nanmedian(df_['dti'])\n",
    "df_['dti'] = np.where(df_['dti'].isnull(), median, df_['dti'])"
   ]
  },
  {
   "cell_type": "code",
   "execution_count": 93,
   "metadata": {},
   "outputs": [],
   "source": [
    "np.nanmedian(df_['pub_rec_bankruptcies'])\n",
    "df_['pub_rec_bankruptcies'] = np.where(df_['pub_rec_bankruptcies'].isnull(), median, df_['pub_rec_bankruptcies'])\n",
    "#df_['mort_acc'].value_counts()"
   ]
  },
  {
   "cell_type": "code",
   "execution_count": 96,
   "metadata": {},
   "outputs": [],
   "source": [
    "np.nanmedian(df_['revol_util'])\n",
    "df_['revol_util'] = np.where(df_['revol_util'].isnull(), median, df_['revol_util'])"
   ]
  },
  {
   "cell_type": "code",
   "execution_count": 97,
   "metadata": {},
   "outputs": [
    {
     "data": {
      "text/plain": [
       "loan_amnt               0\n",
       "term                    0\n",
       "int_rate                0\n",
       "installment             0\n",
       "grade                   0\n",
       "sub_grade               0\n",
       "home_ownership          0\n",
       "annual_inc              0\n",
       "verification_status     0\n",
       "issue_d                 0\n",
       "purpose                 0\n",
       "dti                     0\n",
       "earliest_cr_line        0\n",
       "open_acc                0\n",
       "pub_rec                 0\n",
       "revol_bal               0\n",
       "revol_util              0\n",
       "total_acc               0\n",
       "initial_list_status     0\n",
       "application_type        0\n",
       "mort_acc                0\n",
       "pub_rec_bankruptcies    0\n",
       "loan_repaid             0\n",
       "dtype: int64"
      ]
     },
     "execution_count": 97,
     "metadata": {},
     "output_type": "execute_result"
    }
   ],
   "source": [
    "df_.isnull().sum()"
   ]
  },
  {
   "cell_type": "code",
   "execution_count": 99,
   "metadata": {},
   "outputs": [
    {
     "data": {
      "text/html": [
       "<div>\n",
       "<style scoped>\n",
       "    .dataframe tbody tr th:only-of-type {\n",
       "        vertical-align: middle;\n",
       "    }\n",
       "\n",
       "    .dataframe tbody tr th {\n",
       "        vertical-align: top;\n",
       "    }\n",
       "\n",
       "    .dataframe thead th {\n",
       "        text-align: right;\n",
       "    }\n",
       "</style>\n",
       "<table border=\"1\" class=\"dataframe\">\n",
       "  <thead>\n",
       "    <tr style=\"text-align: right;\">\n",
       "      <th></th>\n",
       "      <th>loan_amnt</th>\n",
       "      <th>term</th>\n",
       "      <th>int_rate</th>\n",
       "      <th>installment</th>\n",
       "      <th>grade</th>\n",
       "      <th>sub_grade</th>\n",
       "      <th>home_ownership</th>\n",
       "      <th>annual_inc</th>\n",
       "      <th>verification_status</th>\n",
       "      <th>issue_d</th>\n",
       "      <th>...</th>\n",
       "      <th>open_acc</th>\n",
       "      <th>pub_rec</th>\n",
       "      <th>revol_bal</th>\n",
       "      <th>revol_util</th>\n",
       "      <th>total_acc</th>\n",
       "      <th>initial_list_status</th>\n",
       "      <th>application_type</th>\n",
       "      <th>mort_acc</th>\n",
       "      <th>pub_rec_bankruptcies</th>\n",
       "      <th>loan_repaid</th>\n",
       "    </tr>\n",
       "  </thead>\n",
       "  <tbody>\n",
       "    <tr>\n",
       "      <th>0</th>\n",
       "      <td>3600.0</td>\n",
       "      <td>36 months</td>\n",
       "      <td>13.99</td>\n",
       "      <td>123.03</td>\n",
       "      <td>C</td>\n",
       "      <td>C4</td>\n",
       "      <td>MORTGAGE</td>\n",
       "      <td>55000.0</td>\n",
       "      <td>Not Verified</td>\n",
       "      <td>Dec-2015</td>\n",
       "      <td>...</td>\n",
       "      <td>7.0</td>\n",
       "      <td>0.0</td>\n",
       "      <td>2765.0</td>\n",
       "      <td>29.7</td>\n",
       "      <td>13.0</td>\n",
       "      <td>w</td>\n",
       "      <td>Individual</td>\n",
       "      <td>1.0</td>\n",
       "      <td>0.0</td>\n",
       "      <td>1</td>\n",
       "    </tr>\n",
       "    <tr>\n",
       "      <th>1</th>\n",
       "      <td>24700.0</td>\n",
       "      <td>36 months</td>\n",
       "      <td>11.99</td>\n",
       "      <td>820.28</td>\n",
       "      <td>C</td>\n",
       "      <td>C1</td>\n",
       "      <td>MORTGAGE</td>\n",
       "      <td>65000.0</td>\n",
       "      <td>Not Verified</td>\n",
       "      <td>Dec-2015</td>\n",
       "      <td>...</td>\n",
       "      <td>22.0</td>\n",
       "      <td>0.0</td>\n",
       "      <td>21470.0</td>\n",
       "      <td>19.2</td>\n",
       "      <td>38.0</td>\n",
       "      <td>w</td>\n",
       "      <td>Individual</td>\n",
       "      <td>4.0</td>\n",
       "      <td>0.0</td>\n",
       "      <td>1</td>\n",
       "    </tr>\n",
       "    <tr>\n",
       "      <th>2</th>\n",
       "      <td>20000.0</td>\n",
       "      <td>60 months</td>\n",
       "      <td>10.78</td>\n",
       "      <td>432.66</td>\n",
       "      <td>B</td>\n",
       "      <td>B4</td>\n",
       "      <td>MORTGAGE</td>\n",
       "      <td>63000.0</td>\n",
       "      <td>Not Verified</td>\n",
       "      <td>Dec-2015</td>\n",
       "      <td>...</td>\n",
       "      <td>6.0</td>\n",
       "      <td>0.0</td>\n",
       "      <td>7869.0</td>\n",
       "      <td>56.2</td>\n",
       "      <td>18.0</td>\n",
       "      <td>w</td>\n",
       "      <td>Joint App</td>\n",
       "      <td>5.0</td>\n",
       "      <td>0.0</td>\n",
       "      <td>1</td>\n",
       "    </tr>\n",
       "    <tr>\n",
       "      <th>4</th>\n",
       "      <td>10400.0</td>\n",
       "      <td>60 months</td>\n",
       "      <td>22.45</td>\n",
       "      <td>289.91</td>\n",
       "      <td>F</td>\n",
       "      <td>F1</td>\n",
       "      <td>MORTGAGE</td>\n",
       "      <td>104433.0</td>\n",
       "      <td>Source Verified</td>\n",
       "      <td>Dec-2015</td>\n",
       "      <td>...</td>\n",
       "      <td>12.0</td>\n",
       "      <td>0.0</td>\n",
       "      <td>21929.0</td>\n",
       "      <td>64.5</td>\n",
       "      <td>35.0</td>\n",
       "      <td>w</td>\n",
       "      <td>Individual</td>\n",
       "      <td>6.0</td>\n",
       "      <td>0.0</td>\n",
       "      <td>1</td>\n",
       "    </tr>\n",
       "    <tr>\n",
       "      <th>5</th>\n",
       "      <td>11950.0</td>\n",
       "      <td>36 months</td>\n",
       "      <td>13.44</td>\n",
       "      <td>405.18</td>\n",
       "      <td>C</td>\n",
       "      <td>C3</td>\n",
       "      <td>RENT</td>\n",
       "      <td>34000.0</td>\n",
       "      <td>Source Verified</td>\n",
       "      <td>Dec-2015</td>\n",
       "      <td>...</td>\n",
       "      <td>5.0</td>\n",
       "      <td>0.0</td>\n",
       "      <td>8822.0</td>\n",
       "      <td>68.4</td>\n",
       "      <td>6.0</td>\n",
       "      <td>w</td>\n",
       "      <td>Individual</td>\n",
       "      <td>0.0</td>\n",
       "      <td>0.0</td>\n",
       "      <td>1</td>\n",
       "    </tr>\n",
       "  </tbody>\n",
       "</table>\n",
       "<p>5 rows × 23 columns</p>\n",
       "</div>"
      ],
      "text/plain": [
       "   loan_amnt        term  int_rate  installment grade sub_grade  \\\n",
       "0     3600.0   36 months     13.99       123.03     C        C4   \n",
       "1    24700.0   36 months     11.99       820.28     C        C1   \n",
       "2    20000.0   60 months     10.78       432.66     B        B4   \n",
       "4    10400.0   60 months     22.45       289.91     F        F1   \n",
       "5    11950.0   36 months     13.44       405.18     C        C3   \n",
       "\n",
       "  home_ownership  annual_inc verification_status   issue_d  ... open_acc  \\\n",
       "0       MORTGAGE     55000.0        Not Verified  Dec-2015  ...      7.0   \n",
       "1       MORTGAGE     65000.0        Not Verified  Dec-2015  ...     22.0   \n",
       "2       MORTGAGE     63000.0        Not Verified  Dec-2015  ...      6.0   \n",
       "4       MORTGAGE    104433.0     Source Verified  Dec-2015  ...     12.0   \n",
       "5           RENT     34000.0     Source Verified  Dec-2015  ...      5.0   \n",
       "\n",
       "   pub_rec revol_bal  revol_util  total_acc  initial_list_status  \\\n",
       "0      0.0    2765.0        29.7       13.0                    w   \n",
       "1      0.0   21470.0        19.2       38.0                    w   \n",
       "2      0.0    7869.0        56.2       18.0                    w   \n",
       "4      0.0   21929.0        64.5       35.0                    w   \n",
       "5      0.0    8822.0        68.4        6.0                    w   \n",
       "\n",
       "   application_type  mort_acc pub_rec_bankruptcies loan_repaid  \n",
       "0        Individual       1.0                  0.0           1  \n",
       "1        Individual       4.0                  0.0           1  \n",
       "2         Joint App       5.0                  0.0           1  \n",
       "4        Individual       6.0                  0.0           1  \n",
       "5        Individual       0.0                  0.0           1  \n",
       "\n",
       "[5 rows x 23 columns]"
      ]
     },
     "execution_count": 99,
     "metadata": {},
     "output_type": "execute_result"
    }
   ],
   "source": [
    "#處理非量化column\n",
    "df_.head(5)"
   ]
  },
  {
   "cell_type": "code",
   "execution_count": 102,
   "metadata": {},
   "outputs": [],
   "source": [
    "df_['term'] = label_encoder.fit_transform(df_['term'])\n",
    "#df_['term']"
   ]
  },
  {
   "cell_type": "code",
   "execution_count": 103,
   "metadata": {},
   "outputs": [],
   "source": [
    "df_ = df_.drop('grade', axis = 1)"
   ]
  },
  {
   "cell_type": "code",
   "execution_count": 109,
   "metadata": {},
   "outputs": [],
   "source": [
    "df_['sub_grade'] = label_encoder.fit_transform(df_['sub_grade'])\n",
    "#df_['sub_grade'].nunique()"
   ]
  },
  {
   "cell_type": "code",
   "execution_count": 113,
   "metadata": {},
   "outputs": [
    {
     "data": {
      "text/plain": [
       "Index(['home_ownership', 'verification_status', 'issue_d', 'purpose',\n",
       "       'earliest_cr_line', 'initial_list_status', 'application_type'],\n",
       "      dtype='object')"
      ]
     },
     "execution_count": 113,
     "metadata": {},
     "output_type": "execute_result"
    }
   ],
   "source": [
    "df_.select_dtypes(['object']).columns"
   ]
  },
  {
   "cell_type": "code",
   "execution_count": 116,
   "metadata": {},
   "outputs": [
    {
     "data": {
      "text/plain": [
       "139"
      ]
     },
     "execution_count": 116,
     "metadata": {},
     "output_type": "execute_result"
    }
   ],
   "source": [
    "df_['issue_d'].nunique()"
   ]
  },
  {
   "cell_type": "code",
   "execution_count": 117,
   "metadata": {},
   "outputs": [],
   "source": [
    "#發行日關聯性低\n",
    "df_ = df_.drop(['issue_d'],axis=1)"
   ]
  },
  {
   "cell_type": "code",
   "execution_count": 121,
   "metadata": {},
   "outputs": [],
   "source": [
    "df_['home_ownership'] = label_encoder.fit_transform(df_['home_ownership'])\n",
    "df_['verification_status'] = label_encoder.fit_transform(df_['verification_status'])\n",
    "df_['application_type'] = label_encoder.fit_transform(df_['application_type'])\n",
    "df_['initial_list_status'] = label_encoder.fit_transform(df_['initial_list_status'])\n",
    "df_['purpose'] = label_encoder.fit_transform(df_['purpose'])"
   ]
  },
  {
   "cell_type": "code",
   "execution_count": 125,
   "metadata": {},
   "outputs": [
    {
     "data": {
      "text/html": [
       "<div>\n",
       "<style scoped>\n",
       "    .dataframe tbody tr th:only-of-type {\n",
       "        vertical-align: middle;\n",
       "    }\n",
       "\n",
       "    .dataframe tbody tr th {\n",
       "        vertical-align: top;\n",
       "    }\n",
       "\n",
       "    .dataframe thead th {\n",
       "        text-align: right;\n",
       "    }\n",
       "</style>\n",
       "<table border=\"1\" class=\"dataframe\">\n",
       "  <thead>\n",
       "    <tr style=\"text-align: right;\">\n",
       "      <th></th>\n",
       "      <th>loan_amnt</th>\n",
       "      <th>term</th>\n",
       "      <th>int_rate</th>\n",
       "      <th>installment</th>\n",
       "      <th>sub_grade</th>\n",
       "      <th>home_ownership</th>\n",
       "      <th>annual_inc</th>\n",
       "      <th>verification_status</th>\n",
       "      <th>purpose</th>\n",
       "      <th>dti</th>\n",
       "      <th>earliest_cr_line</th>\n",
       "      <th>open_acc</th>\n",
       "      <th>pub_rec</th>\n",
       "      <th>revol_bal</th>\n",
       "      <th>revol_util</th>\n",
       "      <th>total_acc</th>\n",
       "      <th>initial_list_status</th>\n",
       "      <th>application_type</th>\n",
       "      <th>mort_acc</th>\n",
       "      <th>pub_rec_bankruptcies</th>\n",
       "      <th>loan_repaid</th>\n",
       "    </tr>\n",
       "  </thead>\n",
       "  <tbody>\n",
       "    <tr>\n",
       "      <th>0</th>\n",
       "      <td>3600.0</td>\n",
       "      <td>0</td>\n",
       "      <td>13.99</td>\n",
       "      <td>123.03</td>\n",
       "      <td>13</td>\n",
       "      <td>1</td>\n",
       "      <td>55000.0</td>\n",
       "      <td>0</td>\n",
       "      <td>2</td>\n",
       "      <td>5.91</td>\n",
       "      <td>Aug-2003</td>\n",
       "      <td>7.0</td>\n",
       "      <td>0.0</td>\n",
       "      <td>2765.0</td>\n",
       "      <td>29.7</td>\n",
       "      <td>13.0</td>\n",
       "      <td>1</td>\n",
       "      <td>0</td>\n",
       "      <td>1.0</td>\n",
       "      <td>0.0</td>\n",
       "      <td>1</td>\n",
       "    </tr>\n",
       "    <tr>\n",
       "      <th>1</th>\n",
       "      <td>24700.0</td>\n",
       "      <td>0</td>\n",
       "      <td>11.99</td>\n",
       "      <td>820.28</td>\n",
       "      <td>10</td>\n",
       "      <td>1</td>\n",
       "      <td>65000.0</td>\n",
       "      <td>0</td>\n",
       "      <td>11</td>\n",
       "      <td>16.06</td>\n",
       "      <td>Dec-1999</td>\n",
       "      <td>22.0</td>\n",
       "      <td>0.0</td>\n",
       "      <td>21470.0</td>\n",
       "      <td>19.2</td>\n",
       "      <td>38.0</td>\n",
       "      <td>1</td>\n",
       "      <td>0</td>\n",
       "      <td>4.0</td>\n",
       "      <td>0.0</td>\n",
       "      <td>1</td>\n",
       "    </tr>\n",
       "    <tr>\n",
       "      <th>2</th>\n",
       "      <td>20000.0</td>\n",
       "      <td>1</td>\n",
       "      <td>10.78</td>\n",
       "      <td>432.66</td>\n",
       "      <td>8</td>\n",
       "      <td>1</td>\n",
       "      <td>63000.0</td>\n",
       "      <td>0</td>\n",
       "      <td>4</td>\n",
       "      <td>10.78</td>\n",
       "      <td>Aug-2000</td>\n",
       "      <td>6.0</td>\n",
       "      <td>0.0</td>\n",
       "      <td>7869.0</td>\n",
       "      <td>56.2</td>\n",
       "      <td>18.0</td>\n",
       "      <td>1</td>\n",
       "      <td>1</td>\n",
       "      <td>5.0</td>\n",
       "      <td>0.0</td>\n",
       "      <td>1</td>\n",
       "    </tr>\n",
       "    <tr>\n",
       "      <th>4</th>\n",
       "      <td>10400.0</td>\n",
       "      <td>1</td>\n",
       "      <td>22.45</td>\n",
       "      <td>289.91</td>\n",
       "      <td>25</td>\n",
       "      <td>1</td>\n",
       "      <td>104433.0</td>\n",
       "      <td>1</td>\n",
       "      <td>6</td>\n",
       "      <td>25.37</td>\n",
       "      <td>Jun-1998</td>\n",
       "      <td>12.0</td>\n",
       "      <td>0.0</td>\n",
       "      <td>21929.0</td>\n",
       "      <td>64.5</td>\n",
       "      <td>35.0</td>\n",
       "      <td>1</td>\n",
       "      <td>0</td>\n",
       "      <td>6.0</td>\n",
       "      <td>0.0</td>\n",
       "      <td>1</td>\n",
       "    </tr>\n",
       "    <tr>\n",
       "      <th>5</th>\n",
       "      <td>11950.0</td>\n",
       "      <td>0</td>\n",
       "      <td>13.44</td>\n",
       "      <td>405.18</td>\n",
       "      <td>12</td>\n",
       "      <td>5</td>\n",
       "      <td>34000.0</td>\n",
       "      <td>1</td>\n",
       "      <td>2</td>\n",
       "      <td>10.20</td>\n",
       "      <td>Oct-1987</td>\n",
       "      <td>5.0</td>\n",
       "      <td>0.0</td>\n",
       "      <td>8822.0</td>\n",
       "      <td>68.4</td>\n",
       "      <td>6.0</td>\n",
       "      <td>1</td>\n",
       "      <td>0</td>\n",
       "      <td>0.0</td>\n",
       "      <td>0.0</td>\n",
       "      <td>1</td>\n",
       "    </tr>\n",
       "  </tbody>\n",
       "</table>\n",
       "</div>"
      ],
      "text/plain": [
       "   loan_amnt  term  int_rate  installment  sub_grade  home_ownership  \\\n",
       "0     3600.0     0     13.99       123.03         13               1   \n",
       "1    24700.0     0     11.99       820.28         10               1   \n",
       "2    20000.0     1     10.78       432.66          8               1   \n",
       "4    10400.0     1     22.45       289.91         25               1   \n",
       "5    11950.0     0     13.44       405.18         12               5   \n",
       "\n",
       "   annual_inc  verification_status  purpose    dti earliest_cr_line  open_acc  \\\n",
       "0     55000.0                    0        2   5.91         Aug-2003       7.0   \n",
       "1     65000.0                    0       11  16.06         Dec-1999      22.0   \n",
       "2     63000.0                    0        4  10.78         Aug-2000       6.0   \n",
       "4    104433.0                    1        6  25.37         Jun-1998      12.0   \n",
       "5     34000.0                    1        2  10.20         Oct-1987       5.0   \n",
       "\n",
       "   pub_rec  revol_bal  revol_util  total_acc  initial_list_status  \\\n",
       "0      0.0     2765.0        29.7       13.0                    1   \n",
       "1      0.0    21470.0        19.2       38.0                    1   \n",
       "2      0.0     7869.0        56.2       18.0                    1   \n",
       "4      0.0    21929.0        64.5       35.0                    1   \n",
       "5      0.0     8822.0        68.4        6.0                    1   \n",
       "\n",
       "   application_type  mort_acc  pub_rec_bankruptcies  loan_repaid  \n",
       "0                 0       1.0                   0.0            1  \n",
       "1                 0       4.0                   0.0            1  \n",
       "2                 1       5.0                   0.0            1  \n",
       "4                 0       6.0                   0.0            1  \n",
       "5                 0       0.0                   0.0            1  "
      ]
     },
     "execution_count": 125,
     "metadata": {},
     "output_type": "execute_result"
    }
   ],
   "source": [
    "pd.set_option('display.max_columns', None)\n",
    "df_.head(5)"
   ]
  },
  {
   "cell_type": "code",
   "execution_count": 126,
   "metadata": {},
   "outputs": [
    {
     "data": {
      "text/plain": [
       "earliest_cr_line    1345310\n",
       "dtype: int64"
      ]
     },
     "execution_count": 126,
     "metadata": {},
     "output_type": "execute_result"
    }
   ],
   "source": [
    "df_.select_dtypes(['object']).count()"
   ]
  },
  {
   "cell_type": "code",
   "execution_count": 127,
   "metadata": {},
   "outputs": [
    {
     "data": {
      "text/plain": [
       "739"
      ]
     },
     "execution_count": 127,
     "metadata": {},
     "output_type": "execute_result"
    }
   ],
   "source": [
    "df_['earliest_cr_line'].nunique()"
   ]
  },
  {
   "cell_type": "code",
   "execution_count": 128,
   "metadata": {},
   "outputs": [],
   "source": [
    "df_ = df_.drop(['earliest_cr_line'],axis=1)"
   ]
  },
  {
   "cell_type": "code",
   "execution_count": 129,
   "metadata": {},
   "outputs": [
    {
     "data": {
      "text/plain": [
       "Series([], dtype: int64)"
      ]
     },
     "execution_count": 129,
     "metadata": {},
     "output_type": "execute_result"
    }
   ],
   "source": [
    "df_.select_dtypes(['object']).count()"
   ]
  },
  {
   "cell_type": "code",
   "execution_count": 132,
   "metadata": {},
   "outputs": [],
   "source": [
    "from sklearn.model_selection import train_test_split\n",
    "x = df_.drop(['loan_repaid'],axis=1)\n",
    "y = df_['loan_repaid']\n",
    "x_train,x_test,y_train,y_test = train_test_split(x,y,test_size=0.34,random_state=42)"
   ]
  },
  {
   "cell_type": "code",
   "execution_count": 135,
   "metadata": {},
   "outputs": [
    {
     "data": {
      "text/plain": [
       "RandomForestClassifier(max_depth=6)"
      ]
     },
     "execution_count": 135,
     "metadata": {},
     "output_type": "execute_result"
    }
   ],
   "source": [
    "from sklearn.ensemble import RandomForestClassifier\n",
    "model = RandomForestClassifier(max_depth = 6)\n",
    "model.fit(x_train, y_train)"
   ]
  },
  {
   "cell_type": "code",
   "execution_count": 141,
   "metadata": {},
   "outputs": [
    {
     "name": "stdout",
     "output_type": "stream",
     "text": [
      "accuracy: 0.80150457143107\n",
      "              precision    recall  f1-score   support\n",
      "\n",
      "           0       0.64      0.01      0.01     91019\n",
      "           1       0.80      1.00      0.89    366387\n",
      "\n",
      "    accuracy                           0.80    457406\n",
      "   macro avg       0.72      0.50      0.45    457406\n",
      "weighted avg       0.77      0.80      0.71    457406\n",
      "\n"
     ]
    }
   ],
   "source": [
    "from sklearn.metrics import accuracy_score\n",
    "from sklearn.metrics import classification_report\n",
    "predict = model.predict(x_test)\n",
    "#print(predict)\n",
    "accuracy = accuracy_score(predict, y_test)\n",
    "print(\"accuracy:\", accuracy)\n",
    "score = classification_report(y_test, predict)\n",
    "print(score)"
   ]
  }
 ],
 "metadata": {
  "kernelspec": {
   "display_name": "Python 3",
   "language": "python",
   "name": "python3"
  },
  "language_info": {
   "codemirror_mode": {
    "name": "ipython",
    "version": 3
   },
   "file_extension": ".py",
   "mimetype": "text/x-python",
   "name": "python",
   "nbconvert_exporter": "python",
   "pygments_lexer": "ipython3",
   "version": "3.8.10"
  }
 },
 "nbformat": 4,
 "nbformat_minor": 4
}
