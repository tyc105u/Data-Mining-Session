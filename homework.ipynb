{
 "cells": [
  {
   "cell_type": "code",
   "execution_count": 1,
   "metadata": {},
   "outputs": [
    {
     "name": "stdout",
     "output_type": "stream",
     "text": [
      "X_train 的 (行數, 欄數): (426, 30)\n",
      "y_train 的 (行數, 欄數): (426,)\n",
      "X_test 的 (行數, 欄數): (143, 30)\n",
      "y_test 的 (行數, 欄數): (143,)\n",
      "Accuaracy on testing set: 0.958\n",
      "Accuaracy on training set: 1.000\n"
     ]
    }
   ],
   "source": [
    "from IPython.display import display\n",
    "from IPython.display import Image\n",
    "import pandas as pd\n",
    "import numpy  as np\n",
    "#由此呼叫乳癌資料集\n",
    "import pydotplus as pdp\n",
    "from sklearn import datasets\n",
    "from sklearn.model_selection import train_test_split\n",
    "from sklearn import tree\n",
    "from sklearn import preprocessing\n",
    "from sklearn import metrics\n",
    "from io import StringIO #data r/w in memory\n",
    "from sklearn.tree import export_graphviz\n",
    "\n",
    "breast_cancer_dataset = datasets.load_breast_cancer()\n",
    "\n",
    "X = breast_cancer_dataset.data\n",
    "Y = breast_cancer_dataset.target\n",
    "#X = breast_cancer_dataset.drop(X, Y, axis = 1)\n",
    "X_train, X_test, y_train, y_test = train_test_split(X, Y, train_size = 0.75, test_size = 0.25, random_state = 0)\n",
    "\n",
    "\n",
    "print(\"X_train 的 (行數, 欄數): {}\".format(X_train.shape))\n",
    "print(\"y_train 的 (行數, 欄數): {}\".format(y_train.shape))\n",
    "print(\"X_test 的 (行數, 欄數): {}\".format(X_test.shape))\n",
    "print(\"y_test 的 (行數, 欄數): {}\".format(y_test.shape))\n",
    "\n",
    "#建立iris_dataframe，使用dataframe資料型態可以以表格的方式紀錄每一筆樣本的特徵資料\n",
    "breast_cancer_dataframe = pd.DataFrame(X_train, columns = breast_cancer_dataset.feature_names)\n",
    "#breast_cancer_dataframe\n",
    "\n",
    "#繪出iris_dataframe的散佈矩陣圖\n",
    "scatter_pic = pd.plotting.scatter_matrix(breast_cancer_dataframe, c=y_train, figsize=(15,15), marker='o', hist_kwds={'bins':20})\n",
    "scatter_pic\n",
    "\n",
    "\n",
    "#==============================================================================\n",
    "#建立決策樹(最大樹)模型\n",
    "#==============================================================================\n",
    "dt_max = tree.DecisionTreeClassifier(criterion = \"entropy\", random_state = 0)\n",
    "dt_max.fit(X_train, y_train)\n",
    "\n",
    "# 預測結果: predict_result; 真實結果: y_test\n",
    "predict_result = dt_max.predict(X_test)\n",
    "acc = metrics.accuracy_score(y_test, predict_result)\n",
    "dt_max_testing_acc = acc\n",
    "print(\"Accuaracy on testing set: {:.3f}\".format(dt_max_testing_acc))\n",
    "\n",
    "predict_result = dt_max.predict(X_train)\n",
    "acc = metrics.accuracy_score(y_train, predict_result)\n",
    "dt_max_training_acc = acc\n",
    "print(\"Accuaracy on training set: {:.3f}\".format(dt_max_training_acc))\n",
    "\n",
    "\n"
   ]
  }
 ],
 "metadata": {
  "kernelspec": {
   "display_name": "Python 3",
   "language": "python",
   "name": "python3"
  },
  "language_info": {
   "codemirror_mode": {
    "name": "ipython",
    "version": 3
   },
   "file_extension": ".py",
   "mimetype": "text/x-python",
   "name": "python",
   "nbconvert_exporter": "python",
   "pygments_lexer": "ipython3",
   "version": "3.6.5"
  }
 },
 "nbformat": 4,
 "nbformat_minor": 2
}
