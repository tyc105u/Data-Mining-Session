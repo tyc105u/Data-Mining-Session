{
 "cells": [
  {
   "cell_type": "code",
   "execution_count": 3,
   "metadata": {},
   "outputs": [
    {
     "name": "stdout",
     "output_type": "stream",
     "text": [
      "1500\n",
      "500\n",
      "1000\n",
      "2000\n"
     ]
    }
   ],
   "source": [
    "class Account:\n",
    "    def __init__(self, name, birthday, balance):\n",
    "        self.transfer_record = []\n",
    "        self.name = name\n",
    "        self.birthday = birthday\n",
    "        self.balance = balance\n",
    "    #存入帳戶\n",
    "    def deposit(self, money):\n",
    "        try:\n",
    "            self.money = money\n",
    "            self.balance += self.money\n",
    "        except:\n",
    "            print(\"Error: Please input the amount of an account as integer.\")\n",
    "    #提款\n",
    "    def withdraw(self, money):\n",
    "        try:\n",
    "            self.money = money\n",
    "            self.balance -= self.money\n",
    "        except:\n",
    "            print(\"Error: Please input the amount of an account as integer.\")\n",
    "        \n",
    "#test_driver = Account('test', 'string', 'a')\n",
    "#test_driver.withdraw(2000)\n",
    "#print(test_driver.balance)\n",
    "\n",
    "#設立戶頭並存入500\n",
    "eric_account = Account('Eric', '1994-03-14', 1000)\n",
    "eric_account.balance = 1000\n",
    "eric_account.deposit(500)\n",
    "print(eric_account.balance)\n",
    "\n",
    "#提款500\n",
    "eric_account.balance = 1000\n",
    "eric_account.withdraw(500)\n",
    "print(eric_account.balance)\n",
    "\n",
    "eric_account = Account('Eric', '1994-03-14', 1000)\n",
    "print(eric_account.balance)\n",
    "#重設帳戶餘額\n",
    "eric_account.balance = 2000\n",
    "print(eric_account.balance)"
   ]
  },
  {
   "cell_type": "code",
   "execution_count": 1,
   "metadata": {},
   "outputs": [
    {
     "name": "stdout",
     "output_type": "stream",
     "text": [
      "700000\n",
      "635000\n",
      "[70000]\n",
      "[70000, 42000]\n"
     ]
    }
   ],
   "source": [
    "class Depreciation:\n",
    "    def __init__(self, book_value, residual_value, useful_life, method):\n",
    "        self.book_value = book_value\n",
    "        self.residual_value = residual_value\n",
    "        self.useful_life = useful_life\n",
    "        self.method = method\n",
    "        self.depr_exp = []\n",
    "    #計算折舊\n",
    "    def depr(self): \n",
    "        try:\n",
    "            if self.method == \"straight_line\":\n",
    "                self.depr_exp.append(int((self.book_value - self.residual_value) / self.useful_life))\n",
    "                self.book_value = self.book_value - (self.book_value - self.residual_value) / self.useful_life\n",
    "            else:\n",
    "                print(\"Error: Please enter the correct method.\")\n",
    "        except Exception as e:\n",
    "            print(e)\n",
    "    #修改residual_value及useful_life\n",
    "    #If we call the function without argument, it uses the default value:\n",
    "    def estimates_chg(self, residual_value = None, useful_life = None):\n",
    "        if residual_value != None:\n",
    "            self.residual_value = residual_value\n",
    "        if useful_life != None:\n",
    "            self.useful_life = useful_life\n",
    "            \n",
    "#test_driver = Depreciation('s', 'w', 'a', 'straight_line')\n",
    "#test_driver.depr()\n",
    "\n",
    "building_depr = Depreciation(700000, 50000, 10, 'straight_line')\n",
    "print(building_depr.book_value)\n",
    "building_depr.depr()\n",
    "print(int(building_depr.book_value))\n",
    "\n",
    "machine_depr = Depreciation(700000, 0, 10, 'straight_line')\n",
    "machine_depr.depr()\n",
    "print(machine_depr.depr_exp)\n",
    "machine_depr.estimates_chg(useful_life = 15)\n",
    "machine_depr.depr()\n",
    "print(machine_depr.depr_exp)"
   ]
  }
 ],
 "metadata": {
  "kernelspec": {
   "display_name": "Python 3",
   "language": "python",
   "name": "python3"
  },
  "language_info": {
   "codemirror_mode": {
    "name": "ipython",
    "version": 3
   },
   "file_extension": ".py",
   "mimetype": "text/x-python",
   "name": "python",
   "nbconvert_exporter": "python",
   "pygments_lexer": "ipython3",
   "version": "3.6.5"
  }
 },
 "nbformat": 4,
 "nbformat_minor": 4
}
