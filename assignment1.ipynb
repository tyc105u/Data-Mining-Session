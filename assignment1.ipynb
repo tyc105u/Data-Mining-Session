{
 "cells": [
  {
   "cell_type": "code",
   "execution_count": 128,
   "metadata": {},
   "outputs": [
    {
     "name": "stdout",
     "output_type": "stream",
     "text": [
      "1500\n",
      "500\n",
      "1000\n",
      "2000\n"
     ]
    }
   ],
   "source": [
    "class Account:\n",
    "    def __init__(self, name, birthday, balance):\n",
    "        self.transfer_record = []\n",
    "        self.name = name\n",
    "        self.birthday = birthday\n",
    "        self.balance = balance\n",
    "    def deposit(self, money):\n",
    "        self.money = money\n",
    "        self.balance += self.money\n",
    "    def withdraw(self, money):\n",
    "        self.money = money\n",
    "        self.balance -= self.money\n",
    "\n",
    "eric_account = Account('Eric', '1994-03-14', 1000)\n",
    "#print(\"t0 =\", eric_account.balance)\n",
    "eric_account.balance = 1000\n",
    "eric_account.deposit(500)\n",
    "print(eric_account.balance)\n",
    "eric_account.balance = 1000\n",
    "eric_account.withdraw(500)\n",
    "print(eric_account.balance)\n",
    "eric_account = Account('Eric', '1994-03-14', 1000)\n",
    "print(eric_account.balance)\n",
    "eric_account.balance = 2000\n",
    "print(eric_account.balance)"
   ]
  },
  {
   "cell_type": "code",
   "execution_count": 122,
   "metadata": {},
   "outputs": [
    {
     "name": "stdout",
     "output_type": "stream",
     "text": [
      "700000\n",
      "635000\n",
      "[70000]\n",
      "[70000, 42000]\n"
     ]
    }
   ],
   "source": [
    "class Depreciation:\n",
    "    def __init__(self, book_value, residual_value, useful_life, method):\n",
    "        self.book_value = book_value\n",
    "        self.residual_value = residual_value\n",
    "        self.useful_life = useful_life\n",
    "        self.method = method\n",
    "        self.depr_exp = []\n",
    "    def depr(self): \n",
    "        if self.method == \"straight_line\":\n",
    "            self.depr_exp.append(int((self.book_value - self.residual_value) / self.useful_life))\n",
    "            self.book_value = self.book_value - (self.book_value - self.residual_value) / self.useful_life\n",
    "        else:\n",
    "            return(None)\n",
    "#You can also send arguments with the key = value syntax.\n",
    "#If we call the function without argument, it uses the default value:\n",
    "    def estimates_chg(self, residual_value = None, useful_life = None):\n",
    "        if residual_value != None:\n",
    "            self.residual_value = residual_value\n",
    "        if useful_life != None:\n",
    "            self.useful_life = useful_life\n",
    "            \n",
    "\n",
    "building_depr = Depreciation(700000, 50000, 10, 'straight_line')\n",
    "print(building_depr.book_value)\n",
    "building_depr.depr()\n",
    "print(int(building_depr.book_value))\n",
    "machine_depr = Depreciation(700000, 0, 10, 'straight_line')\n",
    "#print(machine_depr.useful_life)\n",
    "machine_depr.depr()\n",
    "print(machine_depr.depr_exp)\n",
    "machine_depr.estimates_chg(useful_life = 15)\n",
    "#print(machine_depr.residual_value)\n",
    "#print(machine_depr.useful_life)\n",
    "#print(machine_depr.depr_exp)\n",
    "machine_depr.depr()\n",
    "#print(machine_depr.book_value)\n",
    "print(machine_depr.depr_exp)"
   ]
  }
 ],
 "metadata": {
  "kernelspec": {
   "display_name": "Python 3",
   "language": "python",
   "name": "python3"
  },
  "language_info": {
   "codemirror_mode": {
    "name": "ipython",
    "version": 3
   },
   "file_extension": ".py",
   "mimetype": "text/x-python",
   "name": "python",
   "nbconvert_exporter": "python",
   "pygments_lexer": "ipython3",
   "version": "3.8.10"
  }
 },
 "nbformat": 4,
 "nbformat_minor": 4
}
